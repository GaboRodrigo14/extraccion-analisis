{
 "cells": [
  {
   "cell_type": "markdown",
   "id": "1fb68fc0",
   "metadata": {},
   "source": [
    "# Extracción y Análisis de Datos Públicos del Perú\n",
    "\n",
    "Este notebook tiene como objetivo extraer datos públicos del Perú relacionados a Noticias, Temperatura y Tipo de Cambio, así como analizar su calidad para determinar su viabilidad en soluciones analíticas empresariales.\n"
   ]
  },
  {
   "cell_type": "markdown",
   "id": "897c90f7",
   "metadata": {},
   "source": [
    "## Extracción de Datos"
   ]
  },
  {
   "cell_type": "code",
   "execution_count": null,
   "id": "0dfe5ab1",
   "metadata": {},
   "outputs": [],
   "source": [
    "# Librerías necesarias\n",
    "import pandas as pd\n",
    "import requests\n",
    "from bs4 import BeautifulSoup\n",
    "from datetime import datetime\n"
   ]
  },
  {
   "cell_type": "markdown",
   "id": "3f15d34d",
   "metadata": {},
   "source": [
    "### Noticias del Perú (Ejemplo con RPP)"
   ]
  },
  {
   "cell_type": "code",
   "execution_count": null,
   "id": "f1488326",
   "metadata": {},
   "outputs": [],
   "source": [
    "# Ejemplo simple de scraping de titulares de RPP\n",
    "url = \"https://rpp.pe/peru\"\n",
    "response = requests.get(url)\n",
    "soup = BeautifulSoup(response.content, \"html.parser\")\n",
    "\n",
    "headlines = [h2.get_text(strip=True) for h2 in soup.find_all(\"h2\")]\n",
    "headlines[:5]  # Mostrar los primeros 5 titulares\n"
   ]
  },
  {
   "cell_type": "markdown",
   "id": "55cb1bf8",
   "metadata": {},
   "source": [
    "### Temperatura en Lima (Ejemplo usando OpenWeatherMap)"
   ]
  },
  {
   "cell_type": "code",
   "execution_count": null,
   "id": "29f143c0",
   "metadata": {},
   "outputs": [],
   "source": [
    "# Simulación: Requiere una API Key real\n",
    "# url = f\"http://api.openweathermap.org/data/2.5/weather?q=Lima,PE&appid=YOUR_API_KEY&units=metric\"\n",
    "# response = requests.get(url)\n",
    "# data = response.json()\n",
    "# data['main']['temp']\n",
    "\n",
    "# Simulación sin API\n",
    "temperatura_lima = 24.5  # valor de ejemplo\n",
    "temperatura_lima\n"
   ]
  },
  {
   "cell_type": "markdown",
   "id": "5f6fa1b8",
   "metadata": {},
   "source": [
    "### Tipo de Cambio del BCRP"
   ]
  },
  {
   "cell_type": "code",
   "execution_count": null,
   "id": "9e004ae2",
   "metadata": {},
   "outputs": [],
   "source": [
    "# Ejemplo simple usando scraping de BCRP\n",
    "bcrp_url = \"https://www.sunat.gob.pe/cl-at-ittipcam/tcS01Alias\"\n",
    "response = requests.get(bcrp_url)\n",
    "soup = BeautifulSoup(response.content, \"html.parser\")\n",
    "table = soup.find_all(\"table\")[0]\n",
    "df = pd.read_html(str(table))[0]\n",
    "df.head()\n"
   ]
  },
  {
   "cell_type": "markdown",
   "id": "cd1e82d9",
   "metadata": {},
   "source": [
    "## Indicadores de Calidad del Dataset"
   ]
  },
  {
   "cell_type": "markdown",
   "id": "2fad7532",
   "metadata": {},
   "source": [
    "\n",
    "| Indicador           | Aplicación                   | Descripción                                                                 |\n",
    "|---------------------|------------------------------|-----------------------------------------------------------------------------|\n",
    "| **Completitud**     | Todos los datasets            | ¿Faltan datos? ¿Hay campos vacíos?                                          |\n",
    "| **Consistencia**    | Tipo de cambio, temperatura   | ¿Se repiten fechas? ¿Valores inesperados?                                   |\n",
    "| **Actualización**   | Noticias, tipo de cambio      | ¿Con qué frecuencia se actualizan los datos?                                |\n",
    "| **Precisión**        | Temperatura, tipo de cambio   | ¿Los valores tienen sentido con otras fuentes oficiales?                    |\n",
    "| **Trazabilidad**    | Todos                         | ¿Se puede identificar la fuente clara y oficial de los datos?               |\n"
   ]
  },
  {
   "cell_type": "markdown",
   "id": "9b615999",
   "metadata": {},
   "source": [
    "## Justificación de los Indicadores de Calidad"
   ]
  },
  {
   "cell_type": "markdown",
   "id": "fc52168d",
   "metadata": {},
   "source": [
    "\n",
    "Se eligieron los indicadores de completitud, consistencia y frecuencia de actualización porque son críticos para el negocio. Por ejemplo, una empresa que analiza noticias necesita información actualizada diariamente. Igualmente, los datos de tipo de cambio deben ser consistentes para no afectar el análisis financiero. La temperatura puede impactar en la logística, por lo que su precisión es vital.\n"
   ]
  },
  {
   "cell_type": "markdown",
   "id": "9524c02e",
   "metadata": {},
   "source": [
    "## Conclusiones"
   ]
  },
  {
   "cell_type": "markdown",
   "id": "e2ea7cba",
   "metadata": {},
   "source": [
    "\n",
    "En general, los datos de tipo de cambio del BCRP y temperatura de OpenWeatherMap presentan alta confiabilidad. Las noticias, aunque útiles, requieren validación de fuente y manejo de ruido semántico. Se recomienda establecer una rutina de actualización y validación automática para mantener la calidad en el tiempo.\n"
   ]
  }
 ],
 "metadata": {},
 "nbformat": 4,
 "nbformat_minor": 5
}
